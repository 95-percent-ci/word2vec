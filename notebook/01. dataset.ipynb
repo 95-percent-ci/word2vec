{
 "cells": [
  {
   "cell_type": "markdown",
   "id": "95da97d9",
   "metadata": {},
   "source": [
    "# 1. Context\n",
    "\n",
    "This notebook is created for loading & preprocessing Data for [Word2Vec Implementation](https://arxiv.org/abs/1301.3781). Scale of Data Processing will be reduced to fit consumer GPUs Contraints"
   ]
  },
  {
   "cell_type": "markdown",
   "id": "37b23e35",
   "metadata": {},
   "source": [
    "# 2. Dataset in Scope\n",
    "\n",
    "Wikitext-2 corpus which has around 2M Tokens in Corpus is explored as \n",
    "\n",
    "- Small enough to run in consumer GPUs\n",
    "- Perform POC experiments\n",
    "\n",
    "If resources permits, wikitext-103 will also be tried"
   ]
  },
  {
   "cell_type": "markdown",
   "id": "406e9406",
   "metadata": {},
   "source": [
    "# 3. Basic Imports"
   ]
  },
  {
   "cell_type": "code",
   "execution_count": 18,
   "id": "3d21a881",
   "metadata": {},
   "outputs": [],
   "source": [
    "from datasets import load_dataset\n",
    "import re\n"
   ]
  },
  {
   "cell_type": "markdown",
   "id": "be57c7e7",
   "metadata": {},
   "source": [
    "# 4. Loading Data"
   ]
  },
  {
   "cell_type": "code",
   "execution_count": 30,
   "id": "dfd31fe4",
   "metadata": {},
   "outputs": [],
   "source": [
    "dataset_raw = load_dataset(\"wikitext\", \"wikitext-2-raw-v1\")"
   ]
  },
  {
   "cell_type": "markdown",
   "id": "c2bac9e6",
   "metadata": {},
   "source": [
    "## 4.1. Processing Data"
   ]
  },
  {
   "cell_type": "markdown",
   "id": "57817949",
   "metadata": {},
   "source": [
    "### 4.1.1. English Tokeniser \n",
    "\n",
    "Word2Vec did not used any sophisticated Tokeniser, so to keep things simple, a english tokeniser is created with follow rules\n",
    "\n",
    "1. Lower caseing\n",
    "2. Punctuation Separation\n",
    "3. Remove unwanted symbols like currency, apostrophe \n"
   ]
  },
  {
   "cell_type": "code",
   "execution_count": 67,
   "id": "345a0cc5",
   "metadata": {},
   "outputs": [
    {
     "name": "stdout",
     "output_type": "stream",
     "text": [
      "['south', 'african', 'cricket', 'team', 'won', '2025', 'world', 'test', 'championship', 'final', '.', 'fans', 'were', 'waiting', 'for', 'more', 'than', '25', 'years']\n"
     ]
    }
   ],
   "source": [
    "def basic_english_tokenizer(text):\n",
    "    # Lowercase\n",
    "    text = text.lower()\n",
    "    # Separate punctuation from words\n",
    "    text = re.sub(r\"([.,!?;])\", r\" \\1 \", text)\n",
    "    # Remove any unwanted characters liked dollars, semicolon etc\n",
    "    text = re.sub(r\"[^a-zA-Z0-9.,!?;'\\s]\", '', text)\n",
    "    # Tokenize by whitespace\n",
    "    tokens = text.split()\n",
    "    return tokens\n",
    "\n",
    "# Test Example\n",
    "print(basic_english_tokenizer(\"South African cricket team won 2025 World Test Championship Final. Fans were waiting for more than 25 years\"))\n"
   ]
  },
  {
   "cell_type": "markdown",
   "id": "2fd7f41c",
   "metadata": {},
   "source": [
    "### 4.1.2. Exploring Raw Data\n",
    "\n",
    "1. Raw Data is a list of strings, contain document metadata heirarchy defined by use of `=` characters\n",
    "\n",
    "For example, running below\n",
    "\n",
    "```python\n",
    "print(dataset_raw[\"train\"][\"text\"][0:4])\n",
    "```\n",
    "\n",
    "leads to \n",
    "```python\n",
    "['',\n",
    " ' = Valkyria Chronicles III = \\n',\n",
    " '',\n",
    " ' Senjō no Valkyria 3 : Unrecorded Chronicles ( Japanese : 戦場のヴァルキュリア3 , lit . Valkyria of the Battlefield 3 ) , commonly referred to as Valkyria Chronicles III outside Japan , is a tactical role @-@ playing video game developed by Sega and Media.Vision for the PlayStation Portable . Released in January 2011 in Japan , it is the third game in the Valkyria series . Employing the same fusion of tactical and real @-@ time gameplay as its predecessors , the story runs parallel to the first game and follows the \" Nameless \" , a penal military unit serving the nation of Gallia during the Second Europan War who perform secret black operations and are pitted against the Imperial unit \" Calamaty Raven \" . \\n']\n",
    "```"
   ]
  },
  {
   "cell_type": "markdown",
   "id": "0147a613",
   "metadata": {},
   "source": [
    "### 4.1.3. Preprocessing Scheme\n",
    "\n",
    "Since we are interested in sentence representation with aim to preserve basic english tokenisation as defined in `basic_english_tokenizer`, To do that\n",
    "\n",
    "1. Join strings into a big string, via `join` function\n",
    "2. Ensure new line by between each element by `\"\\n\".join(dataset_raw[\"train\"][\"text\"][0:4])`\n",
    "3. Big string is passed `basic_english_tokenizer`\n",
    "\n",
    "This gives below output\n",
    "\n",
    "\n",
    "```python\n",
    "['valkyria', 'chronicles', 'iii', 'senj', 'no', 'valkyria', '3', 'unrecorded', 'chronicles', 'japanese', '3', ',', 'lit', '.', 'valkyria', 'of', 'the', 'battlefield', '3', ',', 'commonly', 'referred', 'to', 'as', 'valkyria', 'chronicles', 'iii', 'outside', 'japan', ',', 'is', 'a', 'tactical', 'role', 'playing', 'video', 'game', 'developed', 'by', 'sega', 'and', 'media', '.', 'vision', 'for', 'the', 'playstation', 'portable', '.', 'released', 'in', 'january', '2011', 'in', 'japan', ',', 'it', 'is', 'the', 'third', 'game', 'in', 'the', 'valkyria', 'series', '.', 'employing', 'the', 'same', 'fusion', 'of', 'tactical', 'and', 'real', 'time', 'gameplay', 'as', 'its', 'predecessors', ',', 'the', 'story', 'runs', 'parallel', 'to', 'the', 'first', 'game', 'and', 'follows', 'the', 'nameless', ',', 'a', 'penal', 'military', 'unit', 'serving', 'the', 'nation', 'of', 'gallia', 'during', 'the', 'second', 'europan', 'war', 'who', 'perform', 'secret', 'black', 'operations', 'and', 'are', 'pitted', 'against', 'the', 'imperial', 'unit', 'calamaty', 'raven', '.']\n",
    "```"
   ]
  },
  {
   "cell_type": "code",
   "execution_count": 73,
   "id": "eed2d763",
   "metadata": {},
   "outputs": [],
   "source": [
    "# basic_english_tokenizer(\"\\n\\n\".join(dataset_raw[\"train\"][\"text\"][0:4]))"
   ]
  },
  {
   "cell_type": "code",
   "execution_count": 85,
   "id": "c1078f70",
   "metadata": {},
   "outputs": [],
   "source": [
    "def tokenize_example(example): return {'tokens': basic_english_tokenizer((example['text']))}"
   ]
  },
  {
   "cell_type": "code",
   "execution_count": 86,
   "id": "fe39f9bf",
   "metadata": {},
   "outputs": [
    {
     "data": {
      "application/vnd.jupyter.widget-view+json": {
       "model_id": "83144bf8396a4825bb01e1e7aeb33f9b",
       "version_major": 2,
       "version_minor": 0
      },
      "text/plain": [
       "Map:   0%|          | 0/4358 [00:00<?, ? examples/s]"
      ]
     },
     "metadata": {},
     "output_type": "display_data"
    },
    {
     "data": {
      "application/vnd.jupyter.widget-view+json": {
       "model_id": "33b8ec56371b4c5f872a8dab2e922e76",
       "version_major": 2,
       "version_minor": 0
      },
      "text/plain": [
       "Map:   0%|          | 0/36718 [00:00<?, ? examples/s]"
      ]
     },
     "metadata": {},
     "output_type": "display_data"
    },
    {
     "data": {
      "application/vnd.jupyter.widget-view+json": {
       "model_id": "fe433a956af54974897515f4c0b3f4c9",
       "version_major": 2,
       "version_minor": 0
      },
      "text/plain": [
       "Map:   0%|          | 0/3760 [00:00<?, ? examples/s]"
      ]
     },
     "metadata": {},
     "output_type": "display_data"
    }
   ],
   "source": [
    "tokenized_dataset = dataset_raw.map(tokenize_example, batched=False)"
   ]
  },
  {
   "cell_type": "code",
   "execution_count": 89,
   "id": "b37abe0b",
   "metadata": {},
   "outputs": [],
   "source": [
    "vv= tokenized_dataset['train']['tokens'][0:10]"
   ]
  },
  {
   "cell_type": "code",
   "execution_count": 90,
   "id": "b091fbba",
   "metadata": {},
   "outputs": [
    {
     "data": {
      "text/plain": [
       "['senj',\n",
       " 'no',\n",
       " 'valkyria',\n",
       " '3',\n",
       " 'unrecorded',\n",
       " 'chronicles',\n",
       " 'japanese',\n",
       " '3',\n",
       " ',',\n",
       " 'lit',\n",
       " '.',\n",
       " 'valkyria',\n",
       " 'of',\n",
       " 'the',\n",
       " 'battlefield',\n",
       " '3',\n",
       " ',',\n",
       " 'commonly',\n",
       " 'referred',\n",
       " 'to',\n",
       " 'as',\n",
       " 'valkyria',\n",
       " 'chronicles',\n",
       " 'iii',\n",
       " 'outside',\n",
       " 'japan',\n",
       " ',',\n",
       " 'is',\n",
       " 'a',\n",
       " 'tactical',\n",
       " 'role',\n",
       " 'playing',\n",
       " 'video',\n",
       " 'game',\n",
       " 'developed',\n",
       " 'by',\n",
       " 'sega',\n",
       " 'and',\n",
       " 'media',\n",
       " '.',\n",
       " 'vision',\n",
       " 'for',\n",
       " 'the',\n",
       " 'playstation',\n",
       " 'portable',\n",
       " '.',\n",
       " 'released',\n",
       " 'in',\n",
       " 'january',\n",
       " '2011',\n",
       " 'in',\n",
       " 'japan',\n",
       " ',',\n",
       " 'it',\n",
       " 'is',\n",
       " 'the',\n",
       " 'third',\n",
       " 'game',\n",
       " 'in',\n",
       " 'the',\n",
       " 'valkyria',\n",
       " 'series',\n",
       " '.',\n",
       " 'employing',\n",
       " 'the',\n",
       " 'same',\n",
       " 'fusion',\n",
       " 'of',\n",
       " 'tactical',\n",
       " 'and',\n",
       " 'real',\n",
       " 'time',\n",
       " 'gameplay',\n",
       " 'as',\n",
       " 'its',\n",
       " 'predecessors',\n",
       " ',',\n",
       " 'the',\n",
       " 'story',\n",
       " 'runs',\n",
       " 'parallel',\n",
       " 'to',\n",
       " 'the',\n",
       " 'first',\n",
       " 'game',\n",
       " 'and',\n",
       " 'follows',\n",
       " 'the',\n",
       " 'nameless',\n",
       " ',',\n",
       " 'a',\n",
       " 'penal',\n",
       " 'military',\n",
       " 'unit',\n",
       " 'serving',\n",
       " 'the',\n",
       " 'nation',\n",
       " 'of',\n",
       " 'gallia',\n",
       " 'during',\n",
       " 'the',\n",
       " 'second',\n",
       " 'europan',\n",
       " 'war',\n",
       " 'who',\n",
       " 'perform',\n",
       " 'secret',\n",
       " 'black',\n",
       " 'operations',\n",
       " 'and',\n",
       " 'are',\n",
       " 'pitted',\n",
       " 'against',\n",
       " 'the',\n",
       " 'imperial',\n",
       " 'unit',\n",
       " 'calamaty',\n",
       " 'raven',\n",
       " '.']"
      ]
     },
     "execution_count": 90,
     "metadata": {},
     "output_type": "execute_result"
    }
   ],
   "source": [
    "vv[3]"
   ]
  },
  {
   "cell_type": "code",
   "execution_count": null,
   "id": "39b39542",
   "metadata": {},
   "outputs": [],
   "source": []
  }
 ],
 "metadata": {
  "kernelspec": {
   "display_name": ".venv",
   "language": "python",
   "name": "python3"
  },
  "language_info": {
   "codemirror_mode": {
    "name": "ipython",
    "version": 3
   },
   "file_extension": ".py",
   "mimetype": "text/x-python",
   "name": "python",
   "nbconvert_exporter": "python",
   "pygments_lexer": "ipython3",
   "version": "3.11.11"
  }
 },
 "nbformat": 4,
 "nbformat_minor": 5
}
