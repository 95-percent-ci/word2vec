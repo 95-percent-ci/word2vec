{
 "cells": [
  {
   "cell_type": "markdown",
   "id": "95da97d9",
   "metadata": {},
   "source": [
    "# 1. Context\n",
    "\n",
    "This notebook is created for loading & preprocessing Data for [Word2Vec Implementation](https://arxiv.org/abs/1301.3781). Scale of Data Processing will be reduced to fit consumer GPUs Contraints"
   ]
  },
  {
   "cell_type": "markdown",
   "id": "37b23e35",
   "metadata": {},
   "source": [
    "# 2. Dataset in Scope"
   ]
  },
  {
   "cell_type": "code",
   "execution_count": null,
   "id": "3d21a881",
   "metadata": {
    "vscode": {
     "languageId": "plaintext"
    }
   },
   "outputs": [],
   "source": []
  },
  {
   "cell_type": "markdown",
   "id": "53aaee4b",
   "metadata": {},
   "source": []
  }
 ],
 "metadata": {
  "language_info": {
   "name": "python"
  }
 },
 "nbformat": 4,
 "nbformat_minor": 5
}
