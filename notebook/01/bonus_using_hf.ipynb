{
 "cells": [
  {
   "cell_type": "code",
   "execution_count": 1,
   "id": "6c2db537",
   "metadata": {},
   "outputs": [],
   "source": [
    "from datasets import load_dataset_builder, load_dataset, get_dataset_split_names, get_dataset_config_names\n",
    "import time"
   ]
  },
  {
   "cell_type": "code",
   "execution_count": 2,
   "id": "e3216754",
   "metadata": {},
   "outputs": [],
   "source": [
    "_PATH_WIKI_TEXT_ = \"wikitext\""
   ]
  },
  {
   "cell_type": "markdown",
   "id": "17e858e1",
   "metadata": {},
   "source": [
    "# 1. Accessing MetaData"
   ]
  },
  {
   "cell_type": "markdown",
   "id": "43b77fcf",
   "metadata": {},
   "source": [
    "## 1.1. configs available"
   ]
  },
  {
   "cell_type": "code",
   "execution_count": 3,
   "id": "495cc518",
   "metadata": {},
   "outputs": [
    {
     "name": "stdout",
     "output_type": "stream",
     "text": [
      "['wikitext-103-raw-v1', 'wikitext-103-v1', 'wikitext-2-raw-v1', 'wikitext-2-v1']\n"
     ]
    }
   ],
   "source": [
    "print(get_dataset_config_names(_PATH_WIKI_TEXT_, trust_remote_code=True))"
   ]
  },
  {
   "cell_type": "code",
   "execution_count": 4,
   "id": "1631997d",
   "metadata": {},
   "outputs": [],
   "source": [
    "from datasets import load_dataset_builder\n",
    "ds_builder = load_dataset_builder(_PATH_WIKI_TEXT_, \"wikitext-2-v1\")"
   ]
  },
  {
   "cell_type": "code",
   "execution_count": 5,
   "id": "3ccb9e12",
   "metadata": {},
   "outputs": [
    {
     "data": {
      "text/plain": [
       "''"
      ]
     },
     "execution_count": 5,
     "metadata": {},
     "output_type": "execute_result"
    }
   ],
   "source": [
    "# inspecting dataset description\n",
    "ds_builder.info.description"
   ]
  },
  {
   "cell_type": "code",
   "execution_count": 6,
   "id": "9955288b",
   "metadata": {},
   "outputs": [
    {
     "data": {
      "text/plain": [
       "{'text': Value(dtype='string', id=None)}"
      ]
     },
     "execution_count": 6,
     "metadata": {},
     "output_type": "execute_result"
    }
   ],
   "source": [
    "# Inspect dataset features\n",
    "ds_builder.info.features"
   ]
  },
  {
   "cell_type": "markdown",
   "id": "e635b9f1",
   "metadata": {},
   "source": [
    "# 2. Loading Data"
   ]
  },
  {
   "cell_type": "code",
   "execution_count": 7,
   "id": "ee48369e",
   "metadata": {},
   "outputs": [],
   "source": [
    "# loading data, train split\n",
    "dataset_trn = load_dataset(_PATH_WIKI_TEXT_, \"wikitext-2-v1\", split=\"train\")"
   ]
  },
  {
   "cell_type": "code",
   "execution_count": 8,
   "id": "a608dbd7",
   "metadata": {},
   "outputs": [
    {
     "name": "stdout",
     "output_type": "stream",
     "text": [
      "['test', 'train', 'validation']\n"
     ]
    }
   ],
   "source": [
    "# if no split, is given it loads all splits\n",
    "splits_available = get_dataset_split_names(_PATH_WIKI_TEXT_, \"wikitext-2-v1\")\n",
    "print(splits_available)"
   ]
  },
  {
   "cell_type": "markdown",
   "id": "cdbde4e6",
   "metadata": {},
   "source": [
    "## 2.1. Dataset Configurations/Subsets\n",
    "\n",
    "Many datasets contain serverl sub-datasets. Like `wikitext` has severla sub-datasets, like `['wikitext-103-raw-v1', 'wikitext-103-v1', 'wikitext-2-raw-v1', 'wikitext-2-v1']\n",
    "`"
   ]
  },
  {
   "cell_type": "code",
   "execution_count": 9,
   "id": "61781ac7",
   "metadata": {},
   "outputs": [],
   "source": [
    "wiki_text_configs = get_dataset_config_names(_PATH_WIKI_TEXT_, trust_remote_code=True)"
   ]
  },
  {
   "cell_type": "code",
   "execution_count": 10,
   "id": "c6e28ff6",
   "metadata": {},
   "outputs": [
    {
     "data": {
      "text/plain": [
       "['wikitext-103-raw-v1',\n",
       " 'wikitext-103-v1',\n",
       " 'wikitext-2-raw-v1',\n",
       " 'wikitext-2-v1']"
      ]
     },
     "execution_count": 10,
     "metadata": {},
     "output_type": "execute_result"
    }
   ],
   "source": [
    "wiki_text_configs"
   ]
  },
  {
   "cell_type": "code",
   "execution_count": 11,
   "id": "6025c20a",
   "metadata": {},
   "outputs": [],
   "source": [
    "wikitext_2_v1 = load_dataset(_PATH_WIKI_TEXT_, 'wikitext-2-raw-v1', split=\"train\")\n",
    "wikitext_103_v1 = load_dataset(_PATH_WIKI_TEXT_, 'wikitext-103-v1', split=\"train\")"
   ]
  },
  {
   "cell_type": "code",
   "execution_count": 12,
   "id": "ff6ab750",
   "metadata": {},
   "outputs": [
    {
     "data": {
      "text/plain": [
       "Dataset({\n",
       "    features: ['text'],\n",
       "    num_rows: 36718\n",
       "})"
      ]
     },
     "execution_count": 12,
     "metadata": {},
     "output_type": "execute_result"
    }
   ],
   "source": [
    "wikitext_2_v1"
   ]
  },
  {
   "cell_type": "code",
   "execution_count": 13,
   "id": "a3c0bf02",
   "metadata": {},
   "outputs": [
    {
     "data": {
      "text/plain": [
       "Dataset({\n",
       "    features: ['text'],\n",
       "    num_rows: 1801350\n",
       "})"
      ]
     },
     "execution_count": 13,
     "metadata": {},
     "output_type": "execute_result"
    }
   ],
   "source": [
    "wikitext_103_v1"
   ]
  },
  {
   "cell_type": "markdown",
   "id": "60cdb66a",
   "metadata": {},
   "source": [
    "# 3. Know Your Data"
   ]
  },
  {
   "cell_type": "markdown",
   "id": "3369dc1e",
   "metadata": {},
   "source": [
    "## 3.1. Indexing"
   ]
  },
  {
   "cell_type": "code",
   "execution_count": 14,
   "id": "221a8f18",
   "metadata": {},
   "outputs": [
    {
     "name": "stdout",
     "output_type": "stream",
     "text": [
      "Elapsed time: 1.1650 seconds\n",
      "Elapsed time: 0.0001 seconds\n"
     ]
    }
   ],
   "source": [
    "# indexing by column then row\n",
    "## slower than indexing by row then column\n",
    "start_time = time.time()\n",
    "wikitext_103_v1['text'][3]\n",
    "end_time = time.time()\n",
    "print(f\"Elapsed time: {end_time - start_time:.4f} seconds\")\n",
    "\n",
    "start_time = time.time()\n",
    "wikitext_103_v1[3]['text']\n",
    "end_time = time.time()\n",
    "print(f\"Elapsed time: {end_time - start_time:.4f} seconds\")"
   ]
  },
  {
   "cell_type": "markdown",
   "id": "887bc78c",
   "metadata": {},
   "source": [
    "## 3.2. Slicing\n",
    "\n",
    "This returns a subset of the dateset, works like pandas operation"
   ]
  },
  {
   "cell_type": "code",
   "execution_count": 15,
   "id": "4f316ec7",
   "metadata": {},
   "outputs": [
    {
     "data": {
      "text/plain": [
       "{'text': [' Senjō no Valkyria 3 : Unrecorded Chronicles ( Japanese : 戦場のヴァルキュリア3 , lit . Valkyria of the Battlefield 3 ) , commonly referred to as Valkyria Chronicles III outside Japan , is a tactical role @-@ playing video game developed by Sega and Media.Vision for the PlayStation Portable . Released in January 2011 in Japan , it is the third game in the Valkyria series . Employing the same fusion of tactical and real @-@ time gameplay as its predecessors , the story runs parallel to the first game and follows the \" Nameless \" , a penal military unit serving the nation of Gallia during the Second Europan War who perform secret black operations and are pitted against the Imperial unit \" Calamaty Raven \" . \\n',\n",
       "  \" The game began development in 2010 , carrying over a large portion of the work done on Valkyria Chronicles II . While it retained the standard features of the series , it also underwent multiple adjustments , such as making the game more forgiving for series newcomers . Character designer Raita Honjou and composer Hitoshi Sakimoto both returned from previous entries , along with Valkyria Chronicles II director Takeshi Ozawa . A large team of writers handled the script . The game 's opening theme was sung by May 'n . \\n\",\n",
       "  \" It met with positive sales in Japan , and was praised by both Japanese and western critics . After release , it received downloadable content , along with an expanded edition in November of that year . It was also adapted into manga and an original video animation series . Due to low sales of Valkyria Chronicles II , Valkyria Chronicles III was not localized , but a fan translation compatible with the game 's expanded edition was released in 2014 . Media.Vision would return to the franchise with the development of Valkyria : Azure Revolution for the PlayStation 4 . \\n\"]}"
      ]
     },
     "execution_count": 15,
     "metadata": {},
     "output_type": "execute_result"
    }
   ],
   "source": [
    "wikitext_2_v1[3:6]"
   ]
  },
  {
   "cell_type": "markdown",
   "id": "fb0973d8",
   "metadata": {},
   "source": [
    "# 4. Iterable dataset\n",
    "It loads/download dataset one example at a time, so we don't have to wait for the whole dataset to download before we can use it\n",
    "\n",
    "Iterable dataset is loaded, when `streaming` parameter is `True` in `load_dataset()`\n",
    "\n",
    "\n",
    "We are loading a image dataset in this example"
   ]
  },
  {
   "cell_type": "code",
   "execution_count": 16,
   "id": "90e521b2",
   "metadata": {},
   "outputs": [],
   "source": [
    "iterable_ds = load_dataset(\"ethz/food101\", split=\"train\", streaming=True)"
   ]
  },
  {
   "cell_type": "code",
   "execution_count": 17,
   "id": "0f59263f",
   "metadata": {},
   "outputs": [
    {
     "data": {
      "text/plain": [
       "{'image': <PIL.Image.Image image mode=RGB size=384x512>, 'label': 6}"
      ]
     },
     "execution_count": 17,
     "metadata": {},
     "output_type": "execute_result"
    }
   ],
   "source": [
    "next(iter(iterable_ds))"
   ]
  },
  {
   "cell_type": "code",
   "execution_count": 18,
   "id": "ab3e47c7",
   "metadata": {},
   "outputs": [
    {
     "data": {
      "text/plain": [
       "[{'image': <PIL.Image.Image image mode=RGB size=384x512>, 'label': 6},\n",
       " {'image': <PIL.JpegImagePlugin.JpegImageFile image mode=RGB size=512x512>,\n",
       "  'label': 6},\n",
       " {'image': <PIL.Image.Image image mode=RGB size=512x383>, 'label': 6}]"
      ]
     },
     "execution_count": 18,
     "metadata": {},
     "output_type": "execute_result"
    }
   ],
   "source": [
    "## loading specific number of examples\n",
    "list(iterable_ds.take(3))"
   ]
  },
  {
   "cell_type": "code",
   "execution_count": null,
   "id": "a6f52010",
   "metadata": {},
   "outputs": [],
   "source": []
  }
 ],
 "metadata": {
  "kernelspec": {
   "display_name": ".venv",
   "language": "python",
   "name": "python3"
  },
  "language_info": {
   "codemirror_mode": {
    "name": "ipython",
    "version": 3
   },
   "file_extension": ".py",
   "mimetype": "text/x-python",
   "name": "python",
   "nbconvert_exporter": "python",
   "pygments_lexer": "ipython3",
   "version": "3.11.11"
  }
 },
 "nbformat": 4,
 "nbformat_minor": 5
}
